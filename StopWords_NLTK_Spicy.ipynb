{
  "nbformat": 4,
  "nbformat_minor": 0,
  "metadata": {
    "kernelspec": {
      "display_name": "Python 3",
      "language": "python",
      "name": "python3"
    },
    "language_info": {
      "codemirror_mode": {
        "name": "ipython",
        "version": 3
      },
      "file_extension": ".py",
      "mimetype": "text/x-python",
      "name": "python",
      "nbconvert_exporter": "python",
      "pygments_lexer": "ipython3",
      "version": "3.6.7"
    },
    "colab": {
      "name": "StopWords_FahadHussainCS.ipynb",
      "provenance": [],
      "collapsed_sections": []
    }
  },
  "cells": [
    {
      "cell_type": "markdown",
      "metadata": {
        "id": "S5v33WyRCR2S"
      },
      "source": [
        "# Stop Words\n",
        "Stop words are those words that do not contribute to the deeper meaning of the phrase. They are the most common words such as: the, a, and is. For some applications like documentation classification, it may make sense to remove stop words. NLTK provides a list of commonly agreed upon stop words for a variety of languages, such as English.. "
      ]
    },
    {
      "cell_type": "code",
      "metadata": {
        "id": "yqCilyYOhaHh"
      },
      "source": [
        ""
      ],
      "execution_count": null,
      "outputs": []
    },
    {
      "cell_type": "code",
      "metadata": {
        "id": "M1ehwqoXCR2T"
      },
      "source": [
        "# Perform standard imports:\n",
        "import spacy\n",
        "nlp = spacy.load('en_core_web_sm')"
      ],
      "execution_count": 1,
      "outputs": []
    },
    {
      "cell_type": "code",
      "metadata": {
        "id": "0PZAtJwgCVNo",
        "colab": {
          "base_uri": "https://localhost:8080/"
        },
        "outputId": "dde9e709-10d7-4680-c018-15811ca91459"
      },
      "source": [
        "import nltk\n",
        "nltk.download('stopwords')"
      ],
      "execution_count": 2,
      "outputs": [
        {
          "output_type": "stream",
          "text": [
            "[nltk_data] Downloading package stopwords to /root/nltk_data...\n",
            "[nltk_data]   Unzipping corpora/stopwords.zip.\n"
          ],
          "name": "stdout"
        },
        {
          "output_type": "execute_result",
          "data": {
            "text/plain": [
              "True"
            ]
          },
          "metadata": {
            "tags": []
          },
          "execution_count": 2
        }
      ]
    },
    {
      "cell_type": "code",
      "metadata": {
        "id": "O3drpJkBCR2Z",
        "colab": {
          "base_uri": "https://localhost:8080/"
        },
        "outputId": "a99c2457-290b-4fe3-9494-c47136b8f6da"
      },
      "source": [
        "# Print the set of spaCy's default stop words (remember that sets are unordered):\n",
        "print(nlp.Defaults.stop_words)"
      ],
      "execution_count": 3,
      "outputs": [
        {
          "output_type": "stream",
          "text": [
            "{'n’t', 'say', 'behind', 'wherever', 'throughout', 'each', 'about', 'every', 'almost', 'been', 'give', 'after', 'did', 'elsewhere', 'regarding', 'itself', 'n‘t', '’m', 'nobody', 'though', 'others', 'during', 'can', 'everything', '’ve', 'anyone', 'if', 'unless', 'at', 'call', 'where', 'for', 'go', 'same', 'again', 'most', 'sometimes', 'thru', 'he', 'there', 'whatever', 'by', 'than', 'ever', 'towards', 'therefore', 'even', 'would', 'among', 'moreover', 'someone', 'none', \"'ll\", 'my', 'side', 'everyone', 'his', 'against', 'thereafter', 'upon', 'full', 'while', 'under', 'least', 'until', 'whoever', 'keep', 'still', 'our', 'thus', 'themselves', 'well', 'on', 'somewhere', 'from', '‘ve', 'third', 'those', 'fifteen', 'all', 'herself', 'due', 'this', 'amongst', 'get', 'is', 'via', 'what', 'very', 'hereby', 'serious', 'its', '’re', 'enough', 'hence', \"n't\", 'your', 'and', 'seems', 'her', 'bottom', 'latter', 'not', 'quite', 'since', 'something', 'whence', 'using', 'forty', 'cannot', 'has', 'seeming', 'yours', 'mine', 'beside', 'few', 'without', \"'ve\", 'hundred', 'two', 'take', 'sometime', 'whereupon', 'however', 'only', 'nine', 'eleven', 'ours', 'into', 'does', 'ourselves', 'out', 'their', 'various', 'always', 'toward', 'us', 'see', '’ll', 'thereupon', 'rather', 'they', 'who', \"'re\", 'yet', 'also', 'many', 'across', 'yourself', 'part', 'formerly', 'several', 'might', 'a', 'but', 'except', 're', 'sixty', 'thereby', 'so', 'that', 'together', 'being', 'will', 'you', 'eight', 'hereafter', 'afterwards', 'ca', 'in', 'back', 'make', 'six', 'have', 'onto', 'off', 'become', '‘re', 'more', 'nor', 'some', 'must', 'these', 'mostly', 'another', 'when', 'otherwise', 'somehow', 'either', 'why', \"'d\", 'yourselves', 'really', 'five', 'further', 'too', 'below', 'fifty', 'the', '’s', 'down', 'an', \"'s\", 'to', 'whether', 'although', 'or', 'whither', '‘d', 'any', 'nevertheless', 'one', 'whenever', 'often', 'just', 'last', 'whose', 'alone', 'am', 'amount', 'becoming', '‘ll', 'both', 'made', 'whole', 'do', 'within', 'anyway', 'anyhow', 'whereas', 'be', 'them', 'former', '‘m', 'three', 'should', 'was', 'move', 'then', 'nowhere', 'anywhere', 'done', 'much', 'up', 'because', 'meanwhile', 'of', 'hers', 'put', 'becomes', 'empty', 'him', 'next', 'above', 'through', 'had', 'whereby', 'whereafter', \"'m\", 'everywhere', 'other', 'beforehand', 'own', 'herein', 'may', 'myself', 'show', 'we', 'please', 'over', 'are', 'twelve', 'nothing', 'doing', 'she', 'therein', 'which', 'around', 'four', 'how', 'between', 'i', 'seemed', 'top', '’d', 'noone', 'thence', 'besides', 'front', 'along', 'anything', 'else', 'wherein', 'indeed', 'now', 'ten', 'himself', 'me', 'it', 'first', 'once', '‘s', 'with', 'less', 'seem', 'such', 'as', 'twenty', 'latterly', 'before', 'whom', 'already', 'beyond', 'became', 'name', 'per', 'could', 'were', 'namely', 'neither', 'no', 'used', 'here', 'perhaps', 'never', 'hereupon'}\n"
          ],
          "name": "stdout"
        }
      ]
    },
    {
      "cell_type": "code",
      "metadata": {
        "id": "diWTTaRICR2g",
        "colab": {
          "base_uri": "https://localhost:8080/"
        },
        "outputId": "3f259002-7d0f-479f-a014-3cabba4566df"
      },
      "source": [
        "len(nlp.Defaults.stop_words)"
      ],
      "execution_count": 4,
      "outputs": [
        {
          "output_type": "execute_result",
          "data": {
            "text/plain": [
              "326"
            ]
          },
          "metadata": {
            "tags": []
          },
          "execution_count": 4
        }
      ]
    },
    {
      "cell_type": "markdown",
      "metadata": {
        "id": "tWu19KsbCR2k"
      },
      "source": [
        "## To see if a word is a stop word"
      ]
    },
    {
      "cell_type": "code",
      "metadata": {
        "id": "Sxj_JjAdCR2k",
        "colab": {
          "base_uri": "https://localhost:8080/"
        },
        "outputId": "c41ffb85-e370-4fa5-f942-840143b7d510"
      },
      "source": [
        "nlp.vocab['myself'].is_stop"
      ],
      "execution_count": 5,
      "outputs": [
        {
          "output_type": "execute_result",
          "data": {
            "text/plain": [
              "True"
            ]
          },
          "metadata": {
            "tags": []
          },
          "execution_count": 5
        }
      ]
    },
    {
      "cell_type": "code",
      "metadata": {
        "id": "Ep_V7bnOCR2o",
        "colab": {
          "base_uri": "https://localhost:8080/"
        },
        "outputId": "f4c9dcec-7ba9-473e-b558-58737b6be432"
      },
      "source": [
        "nlp.vocab['mystery'].is_stop"
      ],
      "execution_count": 6,
      "outputs": [
        {
          "output_type": "execute_result",
          "data": {
            "text/plain": [
              "False"
            ]
          },
          "metadata": {
            "tags": []
          },
          "execution_count": 6
        }
      ]
    },
    {
      "cell_type": "code",
      "metadata": {
        "id": "U1vIs64dCR2t"
      },
      "source": [
        "# Add the word to the set of stop words. Use lowercase!\n",
        "nlp.Defaults.stop_words.add('mystery')"
      ],
      "execution_count": 7,
      "outputs": []
    },
    {
      "cell_type": "code",
      "metadata": {
        "id": "SQnVv6JEiqHC"
      },
      "source": [
        "# Set the stop_word tag on the lexeme(group of words)\n",
        "nlp.vocab['mystery'].is_stop = True"
      ],
      "execution_count": 8,
      "outputs": []
    },
    {
      "cell_type": "code",
      "metadata": {
        "id": "IO-WF_1mCR2x",
        "colab": {
          "base_uri": "https://localhost:8080/"
        },
        "outputId": "ffca78cc-5631-4963-f22e-d738856b5aac"
      },
      "source": [
        "len(nlp.Defaults.stop_words)"
      ],
      "execution_count": 10,
      "outputs": [
        {
          "output_type": "execute_result",
          "data": {
            "text/plain": [
              "327"
            ]
          },
          "metadata": {
            "tags": []
          },
          "execution_count": 10
        }
      ]
    },
    {
      "cell_type": "code",
      "metadata": {
        "id": "oMMCzOUACR21",
        "colab": {
          "base_uri": "https://localhost:8080/"
        },
        "outputId": "b53bdfa1-c217-4623-ce28-634ed0ad7ef4"
      },
      "source": [
        "nlp.vocab['mystery'].is_stop"
      ],
      "execution_count": 11,
      "outputs": [
        {
          "output_type": "execute_result",
          "data": {
            "text/plain": [
              "True"
            ]
          },
          "metadata": {
            "tags": []
          },
          "execution_count": 11
        }
      ]
    },
    {
      "cell_type": "markdown",
      "metadata": {
        "id": "p58rPB42CR24"
      },
      "source": [
        "## To remove a stop word\n",
        "Alternatively, you may decide that `'beyond'` should not be considered a stop word."
      ]
    },
    {
      "cell_type": "code",
      "metadata": {
        "id": "0KEtYBNRCR25"
      },
      "source": [
        "# Remove the word from the set of stop words\n",
        "nlp.Defaults.stop_words.remove('beyond')\n",
        "\n",
        "# Remove the stop_word tag from the lexeme\n",
        "nlp.vocab['beyond'].is_stop = False"
      ],
      "execution_count": 12,
      "outputs": []
    },
    {
      "cell_type": "code",
      "metadata": {
        "id": "iQr5IK3CCR28",
        "colab": {
          "base_uri": "https://localhost:8080/"
        },
        "outputId": "7cc2c85c-473e-43ce-95f5-090382612df1"
      },
      "source": [
        "len(nlp.Defaults.stop_words)"
      ],
      "execution_count": 13,
      "outputs": [
        {
          "output_type": "execute_result",
          "data": {
            "text/plain": [
              "326"
            ]
          },
          "metadata": {
            "tags": []
          },
          "execution_count": 13
        }
      ]
    },
    {
      "cell_type": "code",
      "metadata": {
        "id": "ZLnWlnDQCR2_",
        "colab": {
          "base_uri": "https://localhost:8080/"
        },
        "outputId": "7ce57cd9-e996-4bdc-92d6-b9402ff12198"
      },
      "source": [
        "nlp.vocab['beyond'].is_stop"
      ],
      "execution_count": 14,
      "outputs": [
        {
          "output_type": "execute_result",
          "data": {
            "text/plain": [
              "False"
            ]
          },
          "metadata": {
            "tags": []
          },
          "execution_count": 14
        }
      ]
    },
    {
      "cell_type": "code",
      "metadata": {
        "id": "TCyp1UmXCxgJ",
        "colab": {
          "base_uri": "https://localhost:8080/"
        },
        "outputId": "44fdaed6-7107-4c39-b508-b382542e81c8"
      },
      "source": [
        "import string\n",
        "import re\n",
        "import nltk\n",
        "nltk.download('punkt')\n",
        "from nltk import word_tokenize,sent_tokenize\n",
        "from nltk.corpus import stopwords\n",
        "# load data\n",
        "text = 'The Quick brown fox jump over the lazy dog!'"
      ],
      "execution_count": 15,
      "outputs": [
        {
          "output_type": "stream",
          "text": [
            "[nltk_data] Downloading package punkt to /root/nltk_data...\n",
            "[nltk_data]   Unzipping tokenizers/punkt.zip.\n"
          ],
          "name": "stdout"
        }
      ]
    },
    {
      "cell_type": "code",
      "metadata": {
        "id": "pehkONOeDPd-",
        "colab": {
          "base_uri": "https://localhost:8080/"
        },
        "outputId": "3c1a7aa3-deb8-47fe-88dd-8ecefdc50e79"
      },
      "source": [
        "# split into words\n",
        "tokens = word_tokenize(text)\n",
        "print(tokens)"
      ],
      "execution_count": 16,
      "outputs": [
        {
          "output_type": "stream",
          "text": [
            "['The', 'Quick', 'brown', 'fox', 'jump', 'over', 'the', 'lazy', 'dog', '!']\n"
          ],
          "name": "stdout"
        }
      ]
    },
    {
      "cell_type": "code",
      "metadata": {
        "id": "K0zTYJKID--l",
        "colab": {
          "base_uri": "https://localhost:8080/"
        },
        "outputId": "adf49a42-c511-4d91-83d1-11fe1eff5f57"
      },
      "source": [
        "# convert to lower case\n",
        "tokens = [w.lower() for w in tokens]\n",
        "print(tokens)"
      ],
      "execution_count": 17,
      "outputs": [
        {
          "output_type": "stream",
          "text": [
            "['the', 'quick', 'brown', 'fox', 'jump', 'over', 'the', 'lazy', 'dog', '!']\n"
          ],
          "name": "stdout"
        }
      ]
    },
    {
      "cell_type": "code",
      "metadata": {
        "id": "PXAJpO5hEEcj",
        "colab": {
          "base_uri": "https://localhost:8080/"
        },
        "outputId": "efb24c5c-b50e-49db-db02-4b914805bcf2"
      },
      "source": [
        "# prepare regex for char filtering\n",
        "re_punc = re.compile('[%s]' % re.escape(string.punctuation))\n",
        "print(re_punc)"
      ],
      "execution_count": 18,
      "outputs": [
        {
          "output_type": "stream",
          "text": [
            "re.compile('[\\\\!\\\\\"\\\\#\\\\$\\\\%\\\\&\\\\\\'\\\\(\\\\)\\\\*\\\\+\\\\,\\\\-\\\\.\\\\/\\\\:\\\\;\\\\<\\\\=\\\\>\\\\?\\\\@\\\\[\\\\\\\\\\\\]\\\\^_\\\\`\\\\{\\\\|\\\\}\\\\~]')\n"
          ],
          "name": "stdout"
        }
      ]
    },
    {
      "cell_type": "code",
      "metadata": {
        "id": "IRupmyA-EF7z",
        "colab": {
          "base_uri": "https://localhost:8080/"
        },
        "outputId": "75b06eb9-0fd7-4b5e-ebab-31bb912eb9cf"
      },
      "source": [
        "# remove punctuation from each word\n",
        "stripped = [re_punc.sub('', w) for w in tokens]\n",
        "print(stripped)"
      ],
      "execution_count": 19,
      "outputs": [
        {
          "output_type": "stream",
          "text": [
            "['the', 'quick', 'brown', 'fox', 'jump', 'over', 'the', 'lazy', 'dog', '']\n"
          ],
          "name": "stdout"
        }
      ]
    },
    {
      "cell_type": "code",
      "metadata": {
        "id": "c0__AkhWEHPT",
        "colab": {
          "base_uri": "https://localhost:8080/"
        },
        "outputId": "c8cf92a6-f901-4268-e572-6fa6b1e77ef0"
      },
      "source": [
        "# remove remaining tokens that are not alphabetic\n",
        "words = [word for word in stripped if word.isalpha()]\n",
        "print(words)"
      ],
      "execution_count": 20,
      "outputs": [
        {
          "output_type": "stream",
          "text": [
            "['the', 'quick', 'brown', 'fox', 'jump', 'over', 'the', 'lazy', 'dog']\n"
          ],
          "name": "stdout"
        }
      ]
    },
    {
      "cell_type": "code",
      "metadata": {
        "id": "6WYqyINsEIhD",
        "colab": {
          "base_uri": "https://localhost:8080/"
        },
        "outputId": "8db1fc87-b3df-4665-f581-81d9fc1e96dd"
      },
      "source": [
        "# filter out non-stop words\n",
        "stop_words = set(stopwords.words('english'))\n",
        "words = [w for w in words if not w in stop_words]\n",
        "print(words)"
      ],
      "execution_count": 21,
      "outputs": [
        {
          "output_type": "stream",
          "text": [
            "['quick', 'brown', 'fox', 'jump', 'lazy', 'dog']\n"
          ],
          "name": "stdout"
        }
      ]
    },
    {
      "cell_type": "code",
      "metadata": {
        "id": "2DdtvLMggo4P",
        "colab": {
          "base_uri": "https://localhost:8080/"
        },
        "outputId": "6ed5346e-05b4-4a86-cfa1-95ae4d7cc7a5"
      },
      "source": [
        "nlp.vocab['brown'].is_stop"
      ],
      "execution_count": 23,
      "outputs": [
        {
          "output_type": "execute_result",
          "data": {
            "text/plain": [
              "False"
            ]
          },
          "metadata": {
            "tags": []
          },
          "execution_count": 23
        }
      ]
    },
    {
      "cell_type": "code",
      "metadata": {
        "id": "khKxrWYhgp1P"
      },
      "source": [
        ""
      ],
      "execution_count": null,
      "outputs": []
    }
  ]
}