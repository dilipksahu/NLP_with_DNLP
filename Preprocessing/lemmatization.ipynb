{
  "nbformat": 4,
  "nbformat_minor": 0,
  "metadata": {
    "colab": {
      "name": "lemmatization.ipynb",
      "provenance": [],
      "collapsed_sections": []
    },
    "kernelspec": {
      "name": "python3",
      "display_name": "Python 3"
    }
  },
  "cells": [
    {
      "cell_type": "code",
      "metadata": {
        "id": "uROUhD6qDkcs",
        "colab": {
          "base_uri": "https://localhost:8080/"
        },
        "outputId": "9d44e336-3407-4304-dd0e-ad36718a53e0"
      },
      "source": [
        "import spacy\n",
        "nlp = spacy.load('en_core_web_sm')\n",
        "doc2 = nlp(u\"We're here to help! Send snail-mail, email fahad@gmail.com or visit us at http://www.fahadhussaincs.blogspot.com!\")\n",
        "for t in doc2:\n",
        "    print(t)"
      ],
      "execution_count": 1,
      "outputs": [
        {
          "output_type": "stream",
          "text": [
            "We\n",
            "'re\n",
            "here\n",
            "to\n",
            "help\n",
            "!\n",
            "Send\n",
            "snail\n",
            "-\n",
            "mail\n",
            ",\n",
            "email\n",
            "fahad@gmail.com\n",
            "or\n",
            "visit\n",
            "us\n",
            "at\n",
            "http://www.fahadhussaincs.blogspot.com\n",
            "!\n"
          ],
          "name": "stdout"
        }
      ]
    },
    {
      "cell_type": "code",
      "metadata": {
        "id": "T9SuBFxJD60t",
        "colab": {
          "base_uri": "https://localhost:8080/"
        },
        "outputId": "d6761894-e9c0-4cea-d48e-c1afde6f9637"
      },
      "source": [
        "doc3 = nlp(u'A 5km NYC cab ride costs $10.30')\n",
        "for t in doc3:\n",
        "    print(t)"
      ],
      "execution_count": 2,
      "outputs": [
        {
          "output_type": "stream",
          "text": [
            "A\n",
            "5\n",
            "km\n",
            "NYC\n",
            "cab\n",
            "ride\n",
            "costs\n",
            "$\n",
            "10.30\n"
          ],
          "name": "stdout"
        }
      ]
    },
    {
      "cell_type": "code",
      "metadata": {
        "id": "W954E2p7EA06",
        "colab": {
          "base_uri": "https://localhost:8080/"
        },
        "outputId": "3150d7e6-3a9b-4be4-849c-454169716b20"
      },
      "source": [
        "doc4 = nlp(u\"Let's visit St. Louis in the U.S. next year.\")\n",
        "for t in doc4:\n",
        "    print(t)"
      ],
      "execution_count": 3,
      "outputs": [
        {
          "output_type": "stream",
          "text": [
            "Let\n",
            "'s\n",
            "visit\n",
            "St.\n",
            "Louis\n",
            "in\n",
            "the\n",
            "U.S.\n",
            "next\n",
            "year\n",
            ".\n"
          ],
          "name": "stdout"
        }
      ]
    },
    {
      "cell_type": "code",
      "metadata": {
        "colab": {
          "base_uri": "https://localhost:8080/"
        },
        "id": "iQF3uJ0bwl3S",
        "outputId": "8736396e-4065-44b3-db7f-f23b1237ecb2"
      },
      "source": [
        "var1 = nlp(u\"John Adam is one of the researcher who invent the direction of way towards success!\")\r\n",
        "for token in var1:\r\n",
        "  print(token.text, '\\t', token.pos_, '\\t', token.lemma, '\\t', token.lemma_)"
      ],
      "execution_count": 7,
      "outputs": [
        {
          "output_type": "stream",
          "text": [
            "John \t PROPN \t 11174346320140919546 \t John\n",
            "Adam \t PROPN \t 14264057329400597350 \t Adam\n",
            "is \t AUX \t 10382539506755952630 \t be\n",
            "one \t NUM \t 17454115351911680600 \t one\n",
            "of \t ADP \t 886050111519832510 \t of\n",
            "the \t DET \t 7425985699627899538 \t the\n",
            "researcher \t NOUN \t 1317581537614213870 \t researcher\n",
            "who \t PRON \t 3876862883474502309 \t who\n",
            "invent \t VERB \t 5373681334090504585 \t invent\n",
            "the \t DET \t 7425985699627899538 \t the\n",
            "direction \t NOUN \t 895834437038626927 \t direction\n",
            "of \t ADP \t 886050111519832510 \t of\n",
            "way \t NOUN \t 6878210874361030284 \t way\n",
            "towards \t ADP \t 9315050841437086371 \t towards\n",
            "success \t NOUN \t 16089821935113899987 \t success\n",
            "! \t PUNCT \t 17494803046312582752 \t !\n"
          ],
          "name": "stdout"
        }
      ]
    },
    {
      "cell_type": "code",
      "metadata": {
        "id": "m5xLEWCexzmi"
      },
      "source": [
        "def show_lemmas(text):\r\n",
        "  for token in text:\r\n",
        "    print(f\"{token.text:{12}}  {token.pos_:{6}}  {token.lemma:{22}}  {token.lemma_}\")"
      ],
      "execution_count": 9,
      "outputs": []
    },
    {
      "cell_type": "code",
      "metadata": {
        "colab": {
          "base_uri": "https://localhost:8080/"
        },
        "id": "7S8CYAfqymWk",
        "outputId": "792d41c1-298b-4049-ae61-045a347a2d8c"
      },
      "source": [
        "var2 = nlp(u\"John Adam is one of the researcher who invent the direction of way towards success!\")\r\n",
        "show_lemmas(var2)"
      ],
      "execution_count": 10,
      "outputs": [
        {
          "output_type": "stream",
          "text": [
            "John          PROPN     11174346320140919546  John\n",
            "Adam          PROPN     14264057329400597350  Adam\n",
            "is            AUX       10382539506755952630  be\n",
            "one           NUM       17454115351911680600  one\n",
            "of            ADP         886050111519832510  of\n",
            "the           DET        7425985699627899538  the\n",
            "researcher    NOUN       1317581537614213870  researcher\n",
            "who           PRON       3876862883474502309  who\n",
            "invent        VERB       5373681334090504585  invent\n",
            "the           DET        7425985699627899538  the\n",
            "direction     NOUN        895834437038626927  direction\n",
            "of            ADP         886050111519832510  of\n",
            "way           NOUN       6878210874361030284  way\n",
            "towards       ADP        9315050841437086371  towards\n",
            "success       NOUN      16089821935113899987  success\n",
            "!             PUNCT     17494803046312582752  !\n"
          ],
          "name": "stdout"
        }
      ]
    },
    {
      "cell_type": "code",
      "metadata": {
        "id": "MnVieHC_EBd6"
      },
      "source": [
        " # ----   Porter Stemmer   ------"
      ],
      "execution_count": null,
      "outputs": []
    },
    {
      "cell_type": "code",
      "metadata": {
        "id": "32eUb4IHIxg-"
      },
      "source": [
        "# Import the toolkit and the full Porter Stemmer library\n",
        "import nltk\n",
        "from nltk.stem.porter import *"
      ],
      "execution_count": null,
      "outputs": []
    },
    {
      "cell_type": "code",
      "metadata": {
        "id": "Mqz3RhM5Ix9p"
      },
      "source": [
        "p_stemmer = PorterStemmer()\n",
        "words = ['run','runner','running','ran','runs','easily','fairly']"
      ],
      "execution_count": null,
      "outputs": []
    },
    {
      "cell_type": "code",
      "metadata": {
        "id": "3BtJibwLI1Ca"
      },
      "source": [
        "for word in words:\n",
        "    print(word+' --> '+p_stemmer.stem(word))"
      ],
      "execution_count": null,
      "outputs": []
    },
    {
      "cell_type": "code",
      "metadata": {
        "id": "1YgYkshwI2jo"
      },
      "source": [
        "#SnowballStemmer\n",
        "from nltk.stem.snowball import SnowballStemmer\n",
        "# The Snowball Stemmer requires that you pass a language parameter\n",
        "s_stemmer = SnowballStemmer(language='english')"
      ],
      "execution_count": null,
      "outputs": []
    },
    {
      "cell_type": "code",
      "metadata": {
        "id": "kDERoxYEI9R4"
      },
      "source": [
        "words = ['run','runner','running','ran','runs','easily','fairly']\n",
        "# words = ['generous','generation','generously','generate']"
      ],
      "execution_count": null,
      "outputs": []
    },
    {
      "cell_type": "code",
      "metadata": {
        "id": "4M0epwwkI-yo"
      },
      "source": [
        "for word in words:\n",
        "    print(word+' --> '+s_stemmer.stem(word))"
      ],
      "execution_count": null,
      "outputs": []
    },
    {
      "cell_type": "code",
      "metadata": {
        "id": "HAhZxPlwJALZ"
      },
      "source": [
        "# ----Do Some more practice -----"
      ],
      "execution_count": null,
      "outputs": []
    },
    {
      "cell_type": "code",
      "metadata": {
        "id": "pjnfD_FOJSx5"
      },
      "source": [
        "words = ['consolingly']"
      ],
      "execution_count": null,
      "outputs": []
    },
    {
      "cell_type": "code",
      "metadata": {
        "id": "WznSJQT6JUa6"
      },
      "source": [
        "print('Porter Stemmer:')\n",
        "for word in words:\n",
        "    print(word+' --> '+p_stemmer.stem(word))"
      ],
      "execution_count": null,
      "outputs": []
    },
    {
      "cell_type": "code",
      "metadata": {
        "id": "kRWOhSIkJVvZ"
      },
      "source": [
        "print('Porter2 Stemmer:')\n",
        "for word in words:\n",
        "    print(word+' --> '+s_stemmer.stem(word))"
      ],
      "execution_count": null,
      "outputs": []
    },
    {
      "cell_type": "code",
      "metadata": {
        "id": "CHjOtYJcJXLp"
      },
      "source": [
        "# Stemming has its drawbacks. If given the token saw, stemming might always return saw, whereas lemmatization would likely return either\n",
        "# see or saw depending on whether the use of the token was as a verb or a noun. As an example, consider the following:\n",
        "\n",
        "phrase = 'I am meeting him tomorrow at the meeting'\n",
        "for word in phrase.split():\n",
        "    print(word+' --> '+p_stemmer.stem(word))"
      ],
      "execution_count": null,
      "outputs": []
    },
    {
      "cell_type": "code",
      "metadata": {
        "id": "J-UtsQdUJfFZ"
      },
      "source": [
        ""
      ],
      "execution_count": null,
      "outputs": []
    },
    {
      "cell_type": "code",
      "metadata": {
        "id": "SiuoLAczLx_T"
      },
      "source": [
        ""
      ],
      "execution_count": null,
      "outputs": []
    },
    {
      "cell_type": "code",
      "metadata": {
        "id": "YAt4O6pwLyQH"
      },
      "source": [
        ""
      ],
      "execution_count": null,
      "outputs": []
    },
    {
      "cell_type": "code",
      "metadata": {
        "id": "GHjntcxSLyzH"
      },
      "source": [
        ""
      ],
      "execution_count": null,
      "outputs": []
    },
    {
      "cell_type": "code",
      "metadata": {
        "id": "Bgs2bp2fLzAH"
      },
      "source": [
        ""
      ],
      "execution_count": null,
      "outputs": []
    },
    {
      "cell_type": "code",
      "metadata": {
        "id": "euP5mgGRLzMP"
      },
      "source": [
        "# Perform standard imports:\n",
        "import spacy\n",
        "nlp = spacy.load('en_core_web_sm')"
      ],
      "execution_count": null,
      "outputs": []
    },
    {
      "cell_type": "code",
      "metadata": {
        "id": "u38F6ATiL3Np"
      },
      "source": [
        "var1 = nlp(u\"John Adam is one the researcher who invent the direction of way towards success!\")\n",
        "\n",
        "for token in var1:\n",
        "    print(token.text, '\\t', token.pos_, '\\t', token.lemma, '\\t', token.lemma_)"
      ],
      "execution_count": null,
      "outputs": []
    },
    {
      "cell_type": "code",
      "metadata": {
        "id": "15GTnATmL4h3"
      },
      "source": [
        "def show_lemmas(text):\n",
        "    for token in text:\n",
        "        print(f'{token.text:{12}} {token.pos_:{6}} {token.lemma:<{22}} {token.lemma_}')"
      ],
      "execution_count": null,
      "outputs": []
    },
    {
      "cell_type": "code",
      "metadata": {
        "id": "kcR_PwbVL61X"
      },
      "source": [
        "var2 = nlp(u\"John Adam is one the researcher who invent the direction of way towards success!\")\n",
        "show_lemmas(var2)"
      ],
      "execution_count": null,
      "outputs": []
    },
    {
      "cell_type": "code",
      "metadata": {
        "id": "u9HofN4pL8S3"
      },
      "source": [
        "var3 = nlp(u\"I am meeting him tomorrow at the meeting.\")\n",
        "show_lemmas(var3)"
      ],
      "execution_count": null,
      "outputs": []
    },
    {
      "cell_type": "code",
      "metadata": {
        "id": "62Rj1pk3L-MH"
      },
      "source": [
        "var4 = nlp(u\"That's of the greate person in the world\")\n",
        "show_lemmas(var4)"
      ],
      "execution_count": null,
      "outputs": []
    },
    {
      "cell_type": "code",
      "metadata": {
        "id": "UGGTGXLfMtcu"
      },
      "source": [
        ""
      ],
      "execution_count": null,
      "outputs": []
    }
  ]
}