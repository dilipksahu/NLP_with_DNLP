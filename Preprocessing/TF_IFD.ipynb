{
  "nbformat": 4,
  "nbformat_minor": 0,
  "metadata": {
    "kernelspec": {
      "display_name": "Python 3",
      "language": "python",
      "name": "python3"
    },
    "language_info": {
      "codemirror_mode": {
        "name": "ipython",
        "version": 3
      },
      "file_extension": ".py",
      "mimetype": "text/x-python",
      "name": "python",
      "nbconvert_exporter": "python",
      "pygments_lexer": "ipython3",
      "version": "3.7.3"
    },
    "colab": {
      "name": "TF_IFD.ipynb",
      "provenance": [],
      "collapsed_sections": []
    }
  },
  "cells": [
    {
      "cell_type": "code",
      "metadata": {
        "id": "70C8SlGKOrbC"
      },
      "source": [
        "from sklearn.feature_extraction.text import CountVectorizer\n",
        "# list of text documents\n",
        "text = [\"The car is driven on the road.\",\"The truck is driven on the highway\"]"
      ],
      "execution_count": 1,
      "outputs": []
    },
    {
      "cell_type": "code",
      "metadata": {
        "id": "D292_wmIOrbH",
        "colab": {
          "base_uri": "https://localhost:8080/"
        },
        "outputId": "2ab3d487-eee0-4298-9f3b-4865343189c4"
      },
      "source": [
        "# create the transform\n",
        "vectorizer = CountVectorizer()\n",
        "\n",
        "# tokenize and build vocab\n",
        "vectorizer.fit(text)"
      ],
      "execution_count": 2,
      "outputs": [
        {
          "output_type": "execute_result",
          "data": {
            "text/plain": [
              "CountVectorizer(analyzer='word', binary=False, decode_error='strict',\n",
              "                dtype=<class 'numpy.int64'>, encoding='utf-8', input='content',\n",
              "                lowercase=True, max_df=1.0, max_features=None, min_df=1,\n",
              "                ngram_range=(1, 1), preprocessor=None, stop_words=None,\n",
              "                strip_accents=None, token_pattern='(?u)\\\\b\\\\w\\\\w+\\\\b',\n",
              "                tokenizer=None, vocabulary=None)"
            ]
          },
          "metadata": {
            "tags": []
          },
          "execution_count": 2
        }
      ]
    },
    {
      "cell_type": "code",
      "metadata": {
        "id": "vcO22gdUOrbN",
        "colab": {
          "base_uri": "https://localhost:8080/"
        },
        "outputId": "a4d81d62-009d-4574-89e3-56f6c0975ca3"
      },
      "source": [
        "# summarize\n",
        "print(vectorizer.vocabulary_)"
      ],
      "execution_count": 3,
      "outputs": [
        {
          "output_type": "stream",
          "text": [
            "{'the': 6, 'car': 0, 'is': 3, 'driven': 1, 'on': 4, 'road': 5, 'truck': 7, 'highway': 2}\n"
          ],
          "name": "stdout"
        }
      ]
    },
    {
      "cell_type": "code",
      "metadata": {
        "id": "rv7KW5fbOrbY",
        "colab": {
          "base_uri": "https://localhost:8080/"
        },
        "outputId": "8509374b-10e7-4f45-e552-ebb29d5a465e"
      },
      "source": [
        "# encode document\n",
        "newvector = vectorizer.transform(text)\n",
        "\n",
        "# summarize encoded vector\n",
        "print(newvector.toarray())"
      ],
      "execution_count": 4,
      "outputs": [
        {
          "output_type": "stream",
          "text": [
            "[[1 1 0 1 1 1 2 0]\n",
            " [0 1 1 1 1 0 2 1]]\n"
          ],
          "name": "stdout"
        }
      ]
    },
    {
      "cell_type": "markdown",
      "metadata": {
        "id": "FFxTiPTdOrbb"
      },
      "source": [
        "# TF - IDF"
      ]
    },
    {
      "cell_type": "code",
      "metadata": {
        "id": "SR58kbYKOrbd"
      },
      "source": [
        "from sklearn.feature_extraction.text import TfidfVectorizer\n",
        "# list of text documents\n",
        "text = [\"The car is driven on the road.\",\"The truck is driven on the highway\"]"
      ],
      "execution_count": 5,
      "outputs": []
    },
    {
      "cell_type": "code",
      "metadata": {
        "id": "-sBLXBhxOrbg"
      },
      "source": [
        "# create the transform\n",
        "vectorizer = TfidfVectorizer()"
      ],
      "execution_count": 6,
      "outputs": []
    },
    {
      "cell_type": "code",
      "metadata": {
        "id": "iAw4AQWOOrbl",
        "colab": {
          "base_uri": "https://localhost:8080/"
        },
        "outputId": "0b3c4fa7-b384-493b-d833-b51cec8a55b3"
      },
      "source": [
        "# tokenize and build vocab\n",
        "vectorizer.fit(text)"
      ],
      "execution_count": 7,
      "outputs": [
        {
          "output_type": "execute_result",
          "data": {
            "text/plain": [
              "TfidfVectorizer(analyzer='word', binary=False, decode_error='strict',\n",
              "                dtype=<class 'numpy.float64'>, encoding='utf-8',\n",
              "                input='content', lowercase=True, max_df=1.0, max_features=None,\n",
              "                min_df=1, ngram_range=(1, 1), norm='l2', preprocessor=None,\n",
              "                smooth_idf=True, stop_words=None, strip_accents=None,\n",
              "                sublinear_tf=False, token_pattern='(?u)\\\\b\\\\w\\\\w+\\\\b',\n",
              "                tokenizer=None, use_idf=True, vocabulary=None)"
            ]
          },
          "metadata": {
            "tags": []
          },
          "execution_count": 7
        }
      ]
    },
    {
      "cell_type": "code",
      "metadata": {
        "id": "-i8H3uq5Orbp",
        "colab": {
          "base_uri": "https://localhost:8080/"
        },
        "outputId": "e3efabfa-51df-4319-bb82-7e1563be5dde"
      },
      "source": [
        "#Focus on IDF VALUES\n",
        "print(vectorizer.idf_)"
      ],
      "execution_count": 9,
      "outputs": [
        {
          "output_type": "stream",
          "text": [
            "[1.40546511 1.         1.40546511 1.         1.         1.40546511\n",
            " 1.         1.40546511]\n"
          ],
          "name": "stdout"
        }
      ]
    },
    {
      "cell_type": "code",
      "metadata": {
        "id": "8Ky0-yh6Orbr",
        "colab": {
          "base_uri": "https://localhost:8080/"
        },
        "outputId": "d1263145-3b04-4285-a813-e2aefe747e8a"
      },
      "source": [
        "# summarize\n",
        "print(vectorizer.vocabulary_)"
      ],
      "execution_count": 10,
      "outputs": [
        {
          "output_type": "stream",
          "text": [
            "{'the': 6, 'car': 0, 'is': 3, 'driven': 1, 'on': 4, 'road': 5, 'truck': 7, 'highway': 2}\n"
          ],
          "name": "stdout"
        }
      ]
    },
    {
      "cell_type": "code",
      "metadata": {
        "id": "zAL2lD3T7Qyh"
      },
      "source": [
        ""
      ],
      "execution_count": null,
      "outputs": []
    }
  ]
}